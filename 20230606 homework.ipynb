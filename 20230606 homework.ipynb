{
 "cells": [
  {
   "cell_type": "code",
   "execution_count": 4,
   "id": "ed969887",
   "metadata": {},
   "outputs": [
    {
     "name": "stdout",
     "output_type": "stream",
     "text": [
      "Requirement already satisfied: pandas in c:\\users\\kokok\\appdata\\local\\programs\\python\\python38\\lib\\site-packages (2.0.2)\n",
      "Requirement already satisfied: python-dateutil>=2.8.2 in c:\\users\\kokok\\appdata\\local\\programs\\python\\python38\\lib\\site-packages (from pandas) (2.8.2)\n",
      "Requirement already satisfied: numpy>=1.20.3; python_version < \"3.10\" in c:\\users\\kokok\\appdata\\local\\programs\\python\\python38\\lib\\site-packages (from pandas) (1.24.3)\n",
      "Requirement already satisfied: tzdata>=2022.1 in c:\\users\\kokok\\appdata\\local\\programs\\python\\python38\\lib\\site-packages (from pandas) (2023.3)\n",
      "Requirement already satisfied: pytz>=2020.1 in c:\\users\\kokok\\appdata\\local\\programs\\python\\python38\\lib\\site-packages (from pandas) (2023.3)\n",
      "Requirement already satisfied: six>=1.5 in c:\\users\\kokok\\appdata\\local\\programs\\python\\python38\\lib\\site-packages (from python-dateutil>=2.8.2->pandas) (1.16.0)\n"
     ]
    },
    {
     "name": "stderr",
     "output_type": "stream",
     "text": [
      "WARNING: You are using pip version 20.2.1; however, version 23.1.2 is available.\n",
      "You should consider upgrading via the 'c:\\users\\kokok\\appdata\\local\\programs\\python\\python38\\python.exe -m pip install --upgrade pip' command.\n"
     ]
    }
   ],
   "source": [
    "!pip install pandas"
   ]
  },
  {
   "cell_type": "code",
   "execution_count": 5,
   "id": "002822f4",
   "metadata": {},
   "outputs": [],
   "source": [
    "import chromedriver_autoinstaller\n",
    "import time\n",
    "from selenium import webdriver\n",
    "from selenium.webdriver.common.by import By # xpath 혹은 xml등에서 상수로 만들어준다.\n",
    "from selenium.webdriver.common.keys import Keys\n",
    "from urllib.request import Request, urlopen\n",
    "# xpath를 이용해서 경로를 정한다고 하면\n",
    "import os\n",
    "import shutil"
   ]
  },
  {
   "cell_type": "code",
   "execution_count": 3,
   "id": "7111f11f",
   "metadata": {},
   "outputs": [
    {
     "name": "stdout",
     "output_type": "stream",
     "text": [
      "[{'매장명': '가산디지털단지역점', '매장 주소': '서울시 금천구 가산동 60-3'}, {'매장명': '강남구청점', '매장 주소': '서울 강남구 청담동 45-4'}, {'매장명': '강남역사거리점', '매장 주소': '서울특별시 강남구 역삼동 820-10'}, {'매장명': '강남역점', '매장 주소': '서울 강남구 역삼동822-7'}, {'매장명': '강남점', '매장 주소': '서울 강남구 테헤란로4길 46 (역삼동 826-37) 쌍용 플래티넘, 1층'}, {'매장명': '강남효성점', '매장 주소': '서울 강남구 역삼동 825-24'}, {'매장명': '강동역점', '매장 주소': '서울 강동구 천호동 447'}, {'매장명': '거여역점', '매장 주소': '서울특별시 송파구 거여동 37-6'}, {'매장명': '건대역점', '매장 주소': '서울 광진구 아차산로 221 (화양동 7-4)'}, {'매장명': '경희대점', '매장 주소': '서울 동대문구 경희대로4길 1'}, {'매장명': '가산디지털단지역점', '매장 주소': '서울시 금천구 가산동 60-3'}, {'매장명': '강남구청점', '매장 주소': '서울 강남구 청담동 45-4'}, {'매장명': '강남역사거리점', '매장 주소': '서울특별시 강남구 역삼동 820-10'}, {'매장명': '강남역점', '매장 주소': '서울 강남구 역삼동822-7'}, {'매장명': '강남점', '매장 주소': '서울 강남구 테헤란로4길 46 (역삼동 826-37) 쌍용 플래티넘, 1층'}, {'매장명': '강남효성점', '매장 주소': '서울 강남구 역삼동 825-24'}, {'매장명': '강동역점', '매장 주소': '서울 강동구 천호동 447'}, {'매장명': '거여역점', '매장 주소': '서울특별시 송파구 거여동 37-6'}, {'매장명': '건대역점', '매장 주소': '서울 광진구 아차산로 221 (화양동 7-4)'}, {'매장명': '경희대점', '매장 주소': '서울 동대문구 경희대로4길 1'}, {'매장명': '광명하안점', '매장 주소': '광명시 하안동 36-2'}, {'매장명': '교대사거리점', '매장 주소': '서울 서초구 서초동 1598-1'}, {'매장명': '교대역점', '매장 주소': '서울 서초구 반포대로30길 82'}, {'매장명': '교대점', '매장 주소': '서울 서초구 서초대로54길 27, 1층'}, {'매장명': '교육개발원사거리점', '매장 주소': '서울 서초구 강남대로27길 7-21 1층'}, {'매장명': '구로비즈메트로점', '매장 주소': '서울시 구로구 구로동 851번지 한화비즈메트로1차 109호'}, {'매장명': '구로지플러스점', '매장 주소': '서울시 구로구 구로동 222-31'}, {'매장명': '국기원사거리점', '매장 주소': '서울 강남구 테헤란로8길 26 (역삼동827-48)'}, {'매장명': '군포첨단산업단지점', '매장 주소': '경기도 군포시 부곡동 1244-4 1층'}, {'매장명': '길동역점', '매장 주소': '서울 강동구 양재대로 1490 (길동 366-5)'}, {'매장명': '김포구래점', '매장 주소': '경기도 김포시 구래동 6883-10 103호'}, {'매장명': '낙성대역점', '매장 주소': '서울시 관악구 봉천동 1658-19'}, {'매장명': '남대문점', '매장 주소': '서울 중구 세종대로 15 남대문5가 6-7'}, {'매장명': '남부터미널점', '매장 주소': '서울 서초구 효령로57길 1'}, {'매장명': '답십리역점', '매장 주소': '서울특별시 동대문구 천호대로 289, 한일노벨리아 104호'}, {'매장명': '대치선릉점', '매장 주소': '서울특별시 강남구 대치동 890-45'}, {'매장명': '대치역점', '매장 주소': '서울 강남구 대치동 507'}, {'매장명': '대치은마점', '매장 주소': '서울 강남구 도곡로 451 (대치동 941-22) 한나빌딩, 1층'}, {'매장명': '대치점', '매장 주소': '서울 강남구 테헤란로 84길 14 (대치동 942-19), 1층'}, {'매장명': '대치포스코점', '매장 주소': '서울 강남구 테헤란로78길 16 (대치동 891-44) 노벨빌딩 증축동, 1층/2층'}, {'매장명': '도곡역점', '매장 주소': '서울특별시 강남구 남부순환로 2909 여천빌딩'}, {'매장명': '독도점', '매장 주소': '경상북도 울릉군 울릉읍 독도리 산 1-96'}, {'매장명': '뚝섬역점', '매장 주소': '서울시 성동구 성수동1가 13-164'}, {'매장명': '무교점', '매장 주소': '서울특별시 중구 다동 155'}, {'매장명': '문정역점', '매장 주소': '서울 송파구 법원로128 (문정동642-3, SKV1빌딩 1층)'}, {'매장명': '미아사거리역점', '매장 주소': '서울시 강북구 미아동 60-5'}, {'매장명': '방배역점', '매장 주소': '서울시 서초구 방배동 909-8'}, {'매장명': '범계역점', '매장 주소': '경기도 안양시 동안구 호계동 1045'}, {'매장명': '보라매역점', '매장 주소': '서울시 동작구 대방동 400-3'}, {'매장명': '분당서현점', '매장 주소': '경기도 성남시 분당구 서현동 268-6 101호'}, {'매장명': '서현CGV점', '매장 주소': '경기도 분당구 서현동 256'}, {'매장명': '선릉공원점', '매장 주소': '서울 강남구 삼성동 142-46'}, {'매장명': '선릉역사거리점', '매장 주소': '서울 강남구 역삼동 705-19'}, {'매장명': '선릉역점', '매장 주소': '서울 강남구 테헤란로51길 7 (역삼동702-30)'}, {'매장명': '선릉위워크점', '매장 주소': '서울특별시 강남구 대치동 889-41'}, {'매장명': '선릉점', '매장 주소': '서울 강남구 언주로 98길 26 (역삼동 700-35), 1층'}, {'매장명': '선정릉점', '매장 주소': '서울 강남구 선릉로 577 (역삼동 682-20) POS TOWER, 1층'}, {'매장명': '세관사거리점', '매장 주소': '서울 강남구 언주로 702 (논현동115-13)'}, {'매장명': '속초중앙로점', '매장 주소': '강원도 속초시 중앙로 123-2'}, {'매장명': '수내역점', '매장 주소': '주소 경기 성남시 분당구 수내로46번길 26'}, {'매장명': '서현CGV점', '매장 주소': '경기도 분당구 서현동 256'}, {'매장명': '선릉공원점', '매장 주소': '서울 강남구 삼성동 142-46'}, {'매장명': '선릉역사거리점', '매장 주소': '서울 강남구 역삼동 705-19'}, {'매장명': '선릉역점', '매장 주소': '서울 강남구 테헤란로51길 7 (역삼동702-30)'}, {'매장명': '선릉위워크점', '매장 주소': '서울특별시 강남구 대치동 889-41'}, {'매장명': '선릉점', '매장 주소': '서울 강남구 언주로 98길 26 (역삼동 700-35), 1층'}, {'매장명': '선정릉점', '매장 주소': '서울 강남구 선릉로 577 (역삼동 682-20) POS TOWER, 1층'}, {'매장명': '세관사거리점', '매장 주소': '서울 강남구 언주로 702 (논현동115-13)'}, {'매장명': '속초중앙로점', '매장 주소': '강원도 속초시 중앙로 123-2'}, {'매장명': '수내역점', '매장 주소': '주소 경기 성남시 분당구 수내로46번길 26'}, {'매장명': '수송미장점', '매장 주소': '전라북도 군산시 수송동로 53, 1층'}, {'매장명': '수원시청역점', '매장 주소': '경기도 수원시 팔달구 인계동 1119'}, {'매장명': '수지성복점', '매장 주소': '경기도 용인시 수지구 성복2로 174, 상가동 104호'}, {'매장명': '숙대입구역점', '매장 주소': '서울특별시 용산구 갈월동 92 1층'}, {'매장명': '신논현역점', '매장 주소': '서울 서초구 서초동 1303-1'}, {'매장명': '신촌로터리점', '매장 주소': '서울특별시 마포구 노고산동 57-14'}, {'매장명': '신촌역점', '매장 주소': '서울 서대문구 신촌로 113 1층'}, {'매장명': '신촌점', '매장 주소': '서울시 서대문구 창천동 13-29'}, {'매장명': '약수역점', '매장 주소': '서울시 중구 신당동 369-9'}, {'매장명': '양재역점', '매장 주소': '서울 강남구 강남대로 240 (도곡동 953-1, 양재SK허브)'}, {'매장명': '양재이안점', '매장 주소': '서울특별시 서초구 강남대로34길 7, 1층'}, {'매장명': '양재점', '매장 주소': '서울 서초구 강남대로 221 (양재동 23)'}, {'매장명': '언주역점', '매장 주소': '서울시 강남구 역삼동 650'}, {'매장명': '여의도역점', '매장 주소': '서울특별시 영등포구 여의도동 26-1'}, {'매장명': '여의도KBS점', '매장 주소': '서울시 영등포구 여의도동 17번지 더샵아일랜드파크 102동 117호~118호'}, {'매장명': '역삼대로점', '매장 주소': '서울 강남구 논현로 427-1 (역삼동 738-27)'}, {'매장명': '역삼삼보점', '매장 주소': '서울특별시 강남구 역삼동 647-13'}, {'매장명': '역삼시티점', '매장 주소': '서울 강남구 논현로85길 52 B102호'}, {'매장명': '역삼역점', '매장 주소': '서울 강남구 강남대로 94길 95 (역삼동 644-19), 1층'}, {'매장명': '역삼초교사거리점', '매장 주소': '서울 강남구 역삼동829-17'}, {'매장명': '역삼GFC점', '매장 주소': '서울 강남구 테헤란로26길 10 (역삼동 736-55) 성보빌딩, 1층'}, {'매장명': '역삼GS점', '매장 주소': '서울 강남구 논현로 94길 13'}, {'매장명': '용인수지구청점', '매장 주소': '경기도 용인시 수지구 수지로296번길 51-7'}, {'매장명': '위례중앙점', '매장 주소': '서울특별시 송파구 위례광장로 120, 상가동 132호'}, {'매장명': '유성구청점', '매장 주소': '대전광역시 유성구 어은로 56, 지상1층'}, {'매장명': '을지병원사거리점', '매장 주소': '서울 강남구 논현동6-21'}, {'매장명': '이대점', '매장 주소': '서울 마포구 대현동 56-74'}, {'매장명': '인천동춘점', '매장 주소': '인천광역시 연수구 동춘동 936-1'}, {'매장명': '잠실새내점', '매장 주소': '서울 송파구 석촌호수로 64 (잠실동 208-16)'}, {'매장명': '종로구청점', '매장 주소': '서울특별시 종로구 종로3길 38'}, {'매장명': '한티역점', '매장 주소': '서울 강남구 선릉로311, 한티빌딩 1층'}, {'매장명': '합정역점', '매장 주소': '서울 마포구 양화로 72'}, {'매장명': '홍대입구역사거리점', '매장 주소': '서울 마포구 양화로 129'}, {'매장명': '회기역사거리점', '매장 주소': '서울 동대문구 회기로 176 (회기동81)'}, {'매장명': 'AK금정점', '매장 주소': '경기도 군포시 금정동 689번지 AK플라자 금정점 2층'}, {'매장명': '가산파트너스타워점', '매장 주소': ''}, {'매장명': '구로우림1차점', '매장 주소': ''}, {'매장명': '문정테라타워점', '매장 주소': '서울특별시 송파구 송파대로 167, 문정역테라타워 A동 G123호'}, {'매장명': '시흥은계점', '매장 주소': '경기도 시흥시 은계번영길 11,111호'}, {'매장명': '원주무실점', '매장 주소': ''}]\n",
      "110\n"
     ]
    },
    {
     "ename": "ModuleNotFoundError",
     "evalue": "No module named 'openpyxl'",
     "output_type": "error",
     "traceback": [
      "\u001b[1;31m---------------------------------------------------------------------------\u001b[0m",
      "\u001b[1;31mWebDriverException\u001b[0m                        Traceback (most recent call last)",
      "Cell \u001b[1;32mIn[3], line 25\u001b[0m\n\u001b[0;32m     24\u001b[0m \u001b[38;5;28;01mtry\u001b[39;00m:\n\u001b[1;32m---> 25\u001b[0m     \u001b[43mnext_page\u001b[49m\u001b[38;5;241;43m.\u001b[39;49m\u001b[43mclick\u001b[49m\u001b[43m(\u001b[49m\u001b[43m)\u001b[49m\n\u001b[0;32m     26\u001b[0m     time\u001b[38;5;241m.\u001b[39msleep(\u001b[38;5;241m5\u001b[39m)\n",
      "File \u001b[1;32mc:\\users\\kokok\\appdata\\local\\programs\\python\\python38\\lib\\site-packages\\selenium\\webdriver\\remote\\webelement.py:94\u001b[0m, in \u001b[0;36mWebElement.click\u001b[1;34m(self)\u001b[0m\n\u001b[0;32m     93\u001b[0m \u001b[38;5;250m\u001b[39m\u001b[38;5;124;03m\"\"\"Clicks the element.\"\"\"\u001b[39;00m\n\u001b[1;32m---> 94\u001b[0m \u001b[38;5;28;43mself\u001b[39;49m\u001b[38;5;241;43m.\u001b[39;49m\u001b[43m_execute\u001b[49m\u001b[43m(\u001b[49m\u001b[43mCommand\u001b[49m\u001b[38;5;241;43m.\u001b[39;49m\u001b[43mCLICK_ELEMENT\u001b[49m\u001b[43m)\u001b[49m\n",
      "File \u001b[1;32mc:\\users\\kokok\\appdata\\local\\programs\\python\\python38\\lib\\site-packages\\selenium\\webdriver\\remote\\webelement.py:403\u001b[0m, in \u001b[0;36mWebElement._execute\u001b[1;34m(self, command, params)\u001b[0m\n\u001b[0;32m    402\u001b[0m params[\u001b[38;5;124m\"\u001b[39m\u001b[38;5;124mid\u001b[39m\u001b[38;5;124m\"\u001b[39m] \u001b[38;5;241m=\u001b[39m \u001b[38;5;28mself\u001b[39m\u001b[38;5;241m.\u001b[39m_id\n\u001b[1;32m--> 403\u001b[0m \u001b[38;5;28;01mreturn\u001b[39;00m \u001b[38;5;28;43mself\u001b[39;49m\u001b[38;5;241;43m.\u001b[39;49m\u001b[43m_parent\u001b[49m\u001b[38;5;241;43m.\u001b[39;49m\u001b[43mexecute\u001b[49m\u001b[43m(\u001b[49m\u001b[43mcommand\u001b[49m\u001b[43m,\u001b[49m\u001b[43m \u001b[49m\u001b[43mparams\u001b[49m\u001b[43m)\u001b[49m\n",
      "File \u001b[1;32mc:\\users\\kokok\\appdata\\local\\programs\\python\\python38\\lib\\site-packages\\selenium\\webdriver\\remote\\webdriver.py:440\u001b[0m, in \u001b[0;36mWebDriver.execute\u001b[1;34m(self, driver_command, params)\u001b[0m\n\u001b[0;32m    439\u001b[0m \u001b[38;5;28;01mif\u001b[39;00m response:\n\u001b[1;32m--> 440\u001b[0m     \u001b[38;5;28;43mself\u001b[39;49m\u001b[38;5;241;43m.\u001b[39;49m\u001b[43merror_handler\u001b[49m\u001b[38;5;241;43m.\u001b[39;49m\u001b[43mcheck_response\u001b[49m\u001b[43m(\u001b[49m\u001b[43mresponse\u001b[49m\u001b[43m)\u001b[49m\n\u001b[0;32m    441\u001b[0m     response[\u001b[38;5;124m\"\u001b[39m\u001b[38;5;124mvalue\u001b[39m\u001b[38;5;124m\"\u001b[39m] \u001b[38;5;241m=\u001b[39m \u001b[38;5;28mself\u001b[39m\u001b[38;5;241m.\u001b[39m_unwrap_value(response\u001b[38;5;241m.\u001b[39mget(\u001b[38;5;124m\"\u001b[39m\u001b[38;5;124mvalue\u001b[39m\u001b[38;5;124m\"\u001b[39m, \u001b[38;5;28;01mNone\u001b[39;00m))\n",
      "File \u001b[1;32mc:\\users\\kokok\\appdata\\local\\programs\\python\\python38\\lib\\site-packages\\selenium\\webdriver\\remote\\errorhandler.py:245\u001b[0m, in \u001b[0;36mErrorHandler.check_response\u001b[1;34m(self, response)\u001b[0m\n\u001b[0;32m    244\u001b[0m     \u001b[38;5;28;01mraise\u001b[39;00m exception_class(message, screen, stacktrace, alert_text)  \u001b[38;5;66;03m# type: ignore[call-arg]  # mypy is not smart enough here\u001b[39;00m\n\u001b[1;32m--> 245\u001b[0m \u001b[38;5;28;01mraise\u001b[39;00m exception_class(message, screen, stacktrace)\n",
      "\u001b[1;31mWebDriverException\u001b[0m: Message: unknown error: unhandled inspector error: {\"code\":-32000,\"message\":\"No node with given id found\"}\n  (Session info: chrome=113.0.5672.127)\nStacktrace:\nBacktrace:\n\tGetHandleVerifier [0x00EA8893+48451]\n\t(No symbol) [0x00E3B8A1]\n\t(No symbol) [0x00D45058]\n\t(No symbol) [0x00D3880B]\n\t(No symbol) [0x00D36F58]\n\t(No symbol) [0x00D375CA]\n\t(No symbol) [0x00D37568]\n\t(No symbol) [0x00D4E2BA]\n\t(No symbol) [0x00D486C8]\n\t(No symbol) [0x00D47853]\n\t(No symbol) [0x00D49631]\n\t(No symbol) [0x00D496D0]\n\t(No symbol) [0x00D71879]\n\t(No symbol) [0x00D698FD]\n\t(No symbol) [0x00D8A2BC]\n\t(No symbol) [0x00D69586]\n\t(No symbol) [0x00D8A614]\n\t(No symbol) [0x00D9C482]\n\t(No symbol) [0x00D8A0B6]\n\t(No symbol) [0x00D67E08]\n\t(No symbol) [0x00D68F2D]\n\tGetHandleVerifier [0x01108E3A+2540266]\n\tGetHandleVerifier [0x01148959+2801161]\n\tGetHandleVerifier [0x0114295C+2776588]\n\tGetHandleVerifier [0x00F32280+612144]\n\t(No symbol) [0x00E44F6C]\n\t(No symbol) [0x00E411D8]\n\t(No symbol) [0x00E412BB]\n\t(No symbol) [0x00E34857]\n\tBaseThreadInitThunk [0x76F37D69+25]\n\tRtlInitializeExceptionChain [0x77BEBB9B+107]\n\tRtlClearBits [0x77BEBB1F+191]\n",
      "\nDuring handling of the above exception, another exception occurred:\n",
      "\u001b[1;31mModuleNotFoundError\u001b[0m                       Traceback (most recent call last)",
      "Cell \u001b[1;32mIn[3], line 31\u001b[0m\n\u001b[0;32m     29\u001b[0m \u001b[38;5;28mprint\u001b[39m(\u001b[38;5;28mlen\u001b[39m(store))\n\u001b[0;32m     30\u001b[0m df \u001b[38;5;241m=\u001b[39m pd\u001b[38;5;241m.\u001b[39mDataFrame(store)\n\u001b[1;32m---> 31\u001b[0m \u001b[43mdf\u001b[49m\u001b[38;5;241;43m.\u001b[39;49m\u001b[43mto_excel\u001b[49m\u001b[43m(\u001b[49m\u001b[38;5;124;43m'\u001b[39;49m\u001b[38;5;124;43mbanapresso.xlsx\u001b[39;49m\u001b[38;5;124;43m'\u001b[39;49m\u001b[43m)\u001b[49m\n\u001b[0;32m     32\u001b[0m \u001b[38;5;28;01mbreak\u001b[39;00m\n",
      "File \u001b[1;32mc:\\users\\kokok\\appdata\\local\\programs\\python\\python38\\lib\\site-packages\\pandas\\core\\generic.py:2252\u001b[0m, in \u001b[0;36mNDFrame.to_excel\u001b[1;34m(self, excel_writer, sheet_name, na_rep, float_format, columns, header, index, index_label, startrow, startcol, engine, merge_cells, inf_rep, freeze_panes, storage_options)\u001b[0m\n\u001b[0;32m   2239\u001b[0m \u001b[38;5;28;01mfrom\u001b[39;00m \u001b[38;5;21;01mpandas\u001b[39;00m\u001b[38;5;21;01m.\u001b[39;00m\u001b[38;5;21;01mio\u001b[39;00m\u001b[38;5;21;01m.\u001b[39;00m\u001b[38;5;21;01mformats\u001b[39;00m\u001b[38;5;21;01m.\u001b[39;00m\u001b[38;5;21;01mexcel\u001b[39;00m \u001b[38;5;28;01mimport\u001b[39;00m ExcelFormatter\n\u001b[0;32m   2241\u001b[0m formatter \u001b[38;5;241m=\u001b[39m ExcelFormatter(\n\u001b[0;32m   2242\u001b[0m     df,\n\u001b[0;32m   2243\u001b[0m     na_rep\u001b[38;5;241m=\u001b[39mna_rep,\n\u001b[1;32m   (...)\u001b[0m\n\u001b[0;32m   2250\u001b[0m     inf_rep\u001b[38;5;241m=\u001b[39minf_rep,\n\u001b[0;32m   2251\u001b[0m )\n\u001b[1;32m-> 2252\u001b[0m \u001b[43mformatter\u001b[49m\u001b[38;5;241;43m.\u001b[39;49m\u001b[43mwrite\u001b[49m\u001b[43m(\u001b[49m\n\u001b[0;32m   2253\u001b[0m \u001b[43m    \u001b[49m\u001b[43mexcel_writer\u001b[49m\u001b[43m,\u001b[49m\n\u001b[0;32m   2254\u001b[0m \u001b[43m    \u001b[49m\u001b[43msheet_name\u001b[49m\u001b[38;5;241;43m=\u001b[39;49m\u001b[43msheet_name\u001b[49m\u001b[43m,\u001b[49m\n\u001b[0;32m   2255\u001b[0m \u001b[43m    \u001b[49m\u001b[43mstartrow\u001b[49m\u001b[38;5;241;43m=\u001b[39;49m\u001b[43mstartrow\u001b[49m\u001b[43m,\u001b[49m\n\u001b[0;32m   2256\u001b[0m \u001b[43m    \u001b[49m\u001b[43mstartcol\u001b[49m\u001b[38;5;241;43m=\u001b[39;49m\u001b[43mstartcol\u001b[49m\u001b[43m,\u001b[49m\n\u001b[0;32m   2257\u001b[0m \u001b[43m    \u001b[49m\u001b[43mfreeze_panes\u001b[49m\u001b[38;5;241;43m=\u001b[39;49m\u001b[43mfreeze_panes\u001b[49m\u001b[43m,\u001b[49m\n\u001b[0;32m   2258\u001b[0m \u001b[43m    \u001b[49m\u001b[43mengine\u001b[49m\u001b[38;5;241;43m=\u001b[39;49m\u001b[43mengine\u001b[49m\u001b[43m,\u001b[49m\n\u001b[0;32m   2259\u001b[0m \u001b[43m    \u001b[49m\u001b[43mstorage_options\u001b[49m\u001b[38;5;241;43m=\u001b[39;49m\u001b[43mstorage_options\u001b[49m\u001b[43m,\u001b[49m\n\u001b[0;32m   2260\u001b[0m \u001b[43m\u001b[49m\u001b[43m)\u001b[49m\n",
      "File \u001b[1;32mc:\\users\\kokok\\appdata\\local\\programs\\python\\python38\\lib\\site-packages\\pandas\\io\\formats\\excel.py:934\u001b[0m, in \u001b[0;36mExcelFormatter.write\u001b[1;34m(self, writer, sheet_name, startrow, startcol, freeze_panes, engine, storage_options)\u001b[0m\n\u001b[0;32m    930\u001b[0m     need_save \u001b[38;5;241m=\u001b[39m \u001b[38;5;28;01mFalse\u001b[39;00m\n\u001b[0;32m    931\u001b[0m \u001b[38;5;28;01melse\u001b[39;00m:\n\u001b[0;32m    932\u001b[0m     \u001b[38;5;66;03m# error: Cannot instantiate abstract class 'ExcelWriter' with abstract\u001b[39;00m\n\u001b[0;32m    933\u001b[0m     \u001b[38;5;66;03m# attributes 'engine', 'save', 'supported_extensions' and 'write_cells'\u001b[39;00m\n\u001b[1;32m--> 934\u001b[0m     writer \u001b[38;5;241m=\u001b[39m \u001b[43mExcelWriter\u001b[49m\u001b[43m(\u001b[49m\u001b[43m  \u001b[49m\u001b[38;5;66;43;03m# type: ignore[abstract]\u001b[39;49;00m\n\u001b[0;32m    935\u001b[0m \u001b[43m        \u001b[49m\u001b[43mwriter\u001b[49m\u001b[43m,\u001b[49m\u001b[43m \u001b[49m\u001b[43mengine\u001b[49m\u001b[38;5;241;43m=\u001b[39;49m\u001b[43mengine\u001b[49m\u001b[43m,\u001b[49m\u001b[43m \u001b[49m\u001b[43mstorage_options\u001b[49m\u001b[38;5;241;43m=\u001b[39;49m\u001b[43mstorage_options\u001b[49m\n\u001b[0;32m    936\u001b[0m \u001b[43m    \u001b[49m\u001b[43m)\u001b[49m\n\u001b[0;32m    937\u001b[0m     need_save \u001b[38;5;241m=\u001b[39m \u001b[38;5;28;01mTrue\u001b[39;00m\n\u001b[0;32m    939\u001b[0m \u001b[38;5;28;01mtry\u001b[39;00m:\n",
      "File \u001b[1;32mc:\\users\\kokok\\appdata\\local\\programs\\python\\python38\\lib\\site-packages\\pandas\\io\\excel\\_openpyxl.py:56\u001b[0m, in \u001b[0;36mOpenpyxlWriter.__init__\u001b[1;34m(self, path, engine, date_format, datetime_format, mode, storage_options, if_sheet_exists, engine_kwargs, **kwargs)\u001b[0m\n\u001b[0;32m     43\u001b[0m \u001b[38;5;28;01mdef\u001b[39;00m \u001b[38;5;21m__init__\u001b[39m(\n\u001b[0;32m     44\u001b[0m     \u001b[38;5;28mself\u001b[39m,\n\u001b[0;32m     45\u001b[0m     path: FilePath \u001b[38;5;241m|\u001b[39m WriteExcelBuffer \u001b[38;5;241m|\u001b[39m ExcelWriter,\n\u001b[1;32m   (...)\u001b[0m\n\u001b[0;32m     54\u001b[0m ) \u001b[38;5;241m-\u001b[39m\u001b[38;5;241m>\u001b[39m \u001b[38;5;28;01mNone\u001b[39;00m:\n\u001b[0;32m     55\u001b[0m     \u001b[38;5;66;03m# Use the openpyxl module as the Excel writer.\u001b[39;00m\n\u001b[1;32m---> 56\u001b[0m     \u001b[38;5;28;01mfrom\u001b[39;00m \u001b[38;5;21;01mopenpyxl\u001b[39;00m\u001b[38;5;21;01m.\u001b[39;00m\u001b[38;5;21;01mworkbook\u001b[39;00m \u001b[38;5;28;01mimport\u001b[39;00m Workbook\n\u001b[0;32m     58\u001b[0m     engine_kwargs \u001b[38;5;241m=\u001b[39m combine_kwargs(engine_kwargs, kwargs)\n\u001b[0;32m     60\u001b[0m     \u001b[38;5;28msuper\u001b[39m()\u001b[38;5;241m.\u001b[39m\u001b[38;5;21m__init__\u001b[39m(\n\u001b[0;32m     61\u001b[0m         path,\n\u001b[0;32m     62\u001b[0m         mode\u001b[38;5;241m=\u001b[39mmode,\n\u001b[1;32m   (...)\u001b[0m\n\u001b[0;32m     65\u001b[0m         engine_kwargs\u001b[38;5;241m=\u001b[39mengine_kwargs,\n\u001b[0;32m     66\u001b[0m     )\n",
      "\u001b[1;31mModuleNotFoundError\u001b[0m: No module named 'openpyxl'"
     ]
    }
   ],
   "source": [
    "from selenium.common.exceptions import WebDriverException\n",
    "import pandas as pd\n",
    "driver = webdriver.Chrome()\n",
    "driver.implicitly_wait(3)\n",
    "url = 'https://banapresso.com/store'\n",
    "driver.get(url)\n",
    "time.sleep(3)\n",
    "store_page_xpath = '/html/body/div/div/div/div/article/div/section/div/div[1]/div[3]/span'\n",
    "next_page = driver.find_element(By.XPATH, store_page_xpath)\n",
    "store = []\n",
    "while True:\n",
    "    pages = driver.find_elements(By.XPATH, '/html/body/div/div/div/div/article/div/section/div/div[1]/div[3]/ul/li')\n",
    "    for page in pages:\n",
    "        store_xpath = '/html/body/div/div/div/div/article/div/section/div/div[1]/div[2]/ul/li'\n",
    "        li_elements = driver.find_elements(By.XPATH, store_xpath)\n",
    "        for li_element in li_elements:\n",
    "            store_name_element = li_element.find_element(By.XPATH, './a/span/i')\n",
    "            store_address_element = li_element.find_element(By.XPATH, './a/span/span')\n",
    "            store_name = store_name_element.text\n",
    "            store_address = store_address_element.text\n",
    "            store.append({\"매장명\": store_name, \"매장 주소\": store_address})\n",
    "        page.click()\n",
    "        time.sleep(3)\n",
    "    try:\n",
    "        next_page.click()\n",
    "        time.sleep(5)\n",
    "    except WebDriverException:\n",
    "        print(store)\n",
    "        print(len(store))\n",
    "        df = pd.DataFrame(store)\n",
    "        \n",
    "        break"
   ]
  },
  {
   "cell_type": "code",
   "execution_count": 7,
   "id": "ca29ef59",
   "metadata": {},
   "outputs": [
    {
     "ename": "ModuleNotFoundError",
     "evalue": "No module named 'openpyxl'",
     "output_type": "error",
     "traceback": [
      "\u001b[1;31m---------------------------------------------------------------------------\u001b[0m",
      "\u001b[1;31mModuleNotFoundError\u001b[0m                       Traceback (most recent call last)",
      "Cell \u001b[1;32mIn[7], line 3\u001b[0m\n\u001b[0;32m      1\u001b[0m \u001b[38;5;28;01mimport\u001b[39;00m \u001b[38;5;21;01mpandas\u001b[39;00m \u001b[38;5;28;01mas\u001b[39;00m \u001b[38;5;21;01mpd\u001b[39;00m\n\u001b[0;32m      2\u001b[0m df \u001b[38;5;241m=\u001b[39m pd\u001b[38;5;241m.\u001b[39mDataFrame(store)\n\u001b[1;32m----> 3\u001b[0m \u001b[43mdf\u001b[49m\u001b[38;5;241;43m.\u001b[39;49m\u001b[43mto_excel\u001b[49m\u001b[43m(\u001b[49m\u001b[38;5;124;43m'\u001b[39;49m\u001b[38;5;124;43mbanapresso.xlsx\u001b[39;49m\u001b[38;5;124;43m'\u001b[39;49m\u001b[43m)\u001b[49m\n",
      "File \u001b[1;32mc:\\users\\kokok\\appdata\\local\\programs\\python\\python38\\lib\\site-packages\\pandas\\core\\generic.py:2252\u001b[0m, in \u001b[0;36mNDFrame.to_excel\u001b[1;34m(self, excel_writer, sheet_name, na_rep, float_format, columns, header, index, index_label, startrow, startcol, engine, merge_cells, inf_rep, freeze_panes, storage_options)\u001b[0m\n\u001b[0;32m   2239\u001b[0m \u001b[38;5;28;01mfrom\u001b[39;00m \u001b[38;5;21;01mpandas\u001b[39;00m\u001b[38;5;21;01m.\u001b[39;00m\u001b[38;5;21;01mio\u001b[39;00m\u001b[38;5;21;01m.\u001b[39;00m\u001b[38;5;21;01mformats\u001b[39;00m\u001b[38;5;21;01m.\u001b[39;00m\u001b[38;5;21;01mexcel\u001b[39;00m \u001b[38;5;28;01mimport\u001b[39;00m ExcelFormatter\n\u001b[0;32m   2241\u001b[0m formatter \u001b[38;5;241m=\u001b[39m ExcelFormatter(\n\u001b[0;32m   2242\u001b[0m     df,\n\u001b[0;32m   2243\u001b[0m     na_rep\u001b[38;5;241m=\u001b[39mna_rep,\n\u001b[1;32m   (...)\u001b[0m\n\u001b[0;32m   2250\u001b[0m     inf_rep\u001b[38;5;241m=\u001b[39minf_rep,\n\u001b[0;32m   2251\u001b[0m )\n\u001b[1;32m-> 2252\u001b[0m \u001b[43mformatter\u001b[49m\u001b[38;5;241;43m.\u001b[39;49m\u001b[43mwrite\u001b[49m\u001b[43m(\u001b[49m\n\u001b[0;32m   2253\u001b[0m \u001b[43m    \u001b[49m\u001b[43mexcel_writer\u001b[49m\u001b[43m,\u001b[49m\n\u001b[0;32m   2254\u001b[0m \u001b[43m    \u001b[49m\u001b[43msheet_name\u001b[49m\u001b[38;5;241;43m=\u001b[39;49m\u001b[43msheet_name\u001b[49m\u001b[43m,\u001b[49m\n\u001b[0;32m   2255\u001b[0m \u001b[43m    \u001b[49m\u001b[43mstartrow\u001b[49m\u001b[38;5;241;43m=\u001b[39;49m\u001b[43mstartrow\u001b[49m\u001b[43m,\u001b[49m\n\u001b[0;32m   2256\u001b[0m \u001b[43m    \u001b[49m\u001b[43mstartcol\u001b[49m\u001b[38;5;241;43m=\u001b[39;49m\u001b[43mstartcol\u001b[49m\u001b[43m,\u001b[49m\n\u001b[0;32m   2257\u001b[0m \u001b[43m    \u001b[49m\u001b[43mfreeze_panes\u001b[49m\u001b[38;5;241;43m=\u001b[39;49m\u001b[43mfreeze_panes\u001b[49m\u001b[43m,\u001b[49m\n\u001b[0;32m   2258\u001b[0m \u001b[43m    \u001b[49m\u001b[43mengine\u001b[49m\u001b[38;5;241;43m=\u001b[39;49m\u001b[43mengine\u001b[49m\u001b[43m,\u001b[49m\n\u001b[0;32m   2259\u001b[0m \u001b[43m    \u001b[49m\u001b[43mstorage_options\u001b[49m\u001b[38;5;241;43m=\u001b[39;49m\u001b[43mstorage_options\u001b[49m\u001b[43m,\u001b[49m\n\u001b[0;32m   2260\u001b[0m \u001b[43m\u001b[49m\u001b[43m)\u001b[49m\n",
      "File \u001b[1;32mc:\\users\\kokok\\appdata\\local\\programs\\python\\python38\\lib\\site-packages\\pandas\\io\\formats\\excel.py:934\u001b[0m, in \u001b[0;36mExcelFormatter.write\u001b[1;34m(self, writer, sheet_name, startrow, startcol, freeze_panes, engine, storage_options)\u001b[0m\n\u001b[0;32m    930\u001b[0m     need_save \u001b[38;5;241m=\u001b[39m \u001b[38;5;28;01mFalse\u001b[39;00m\n\u001b[0;32m    931\u001b[0m \u001b[38;5;28;01melse\u001b[39;00m:\n\u001b[0;32m    932\u001b[0m     \u001b[38;5;66;03m# error: Cannot instantiate abstract class 'ExcelWriter' with abstract\u001b[39;00m\n\u001b[0;32m    933\u001b[0m     \u001b[38;5;66;03m# attributes 'engine', 'save', 'supported_extensions' and 'write_cells'\u001b[39;00m\n\u001b[1;32m--> 934\u001b[0m     writer \u001b[38;5;241m=\u001b[39m \u001b[43mExcelWriter\u001b[49m\u001b[43m(\u001b[49m\u001b[43m  \u001b[49m\u001b[38;5;66;43;03m# type: ignore[abstract]\u001b[39;49;00m\n\u001b[0;32m    935\u001b[0m \u001b[43m        \u001b[49m\u001b[43mwriter\u001b[49m\u001b[43m,\u001b[49m\u001b[43m \u001b[49m\u001b[43mengine\u001b[49m\u001b[38;5;241;43m=\u001b[39;49m\u001b[43mengine\u001b[49m\u001b[43m,\u001b[49m\u001b[43m \u001b[49m\u001b[43mstorage_options\u001b[49m\u001b[38;5;241;43m=\u001b[39;49m\u001b[43mstorage_options\u001b[49m\n\u001b[0;32m    936\u001b[0m \u001b[43m    \u001b[49m\u001b[43m)\u001b[49m\n\u001b[0;32m    937\u001b[0m     need_save \u001b[38;5;241m=\u001b[39m \u001b[38;5;28;01mTrue\u001b[39;00m\n\u001b[0;32m    939\u001b[0m \u001b[38;5;28;01mtry\u001b[39;00m:\n",
      "File \u001b[1;32mc:\\users\\kokok\\appdata\\local\\programs\\python\\python38\\lib\\site-packages\\pandas\\io\\excel\\_openpyxl.py:56\u001b[0m, in \u001b[0;36mOpenpyxlWriter.__init__\u001b[1;34m(self, path, engine, date_format, datetime_format, mode, storage_options, if_sheet_exists, engine_kwargs, **kwargs)\u001b[0m\n\u001b[0;32m     43\u001b[0m \u001b[38;5;28;01mdef\u001b[39;00m \u001b[38;5;21m__init__\u001b[39m(\n\u001b[0;32m     44\u001b[0m     \u001b[38;5;28mself\u001b[39m,\n\u001b[0;32m     45\u001b[0m     path: FilePath \u001b[38;5;241m|\u001b[39m WriteExcelBuffer \u001b[38;5;241m|\u001b[39m ExcelWriter,\n\u001b[1;32m   (...)\u001b[0m\n\u001b[0;32m     54\u001b[0m ) \u001b[38;5;241m-\u001b[39m\u001b[38;5;241m>\u001b[39m \u001b[38;5;28;01mNone\u001b[39;00m:\n\u001b[0;32m     55\u001b[0m     \u001b[38;5;66;03m# Use the openpyxl module as the Excel writer.\u001b[39;00m\n\u001b[1;32m---> 56\u001b[0m     \u001b[38;5;28;01mfrom\u001b[39;00m \u001b[38;5;21;01mopenpyxl\u001b[39;00m\u001b[38;5;21;01m.\u001b[39;00m\u001b[38;5;21;01mworkbook\u001b[39;00m \u001b[38;5;28;01mimport\u001b[39;00m Workbook\n\u001b[0;32m     58\u001b[0m     engine_kwargs \u001b[38;5;241m=\u001b[39m combine_kwargs(engine_kwargs, kwargs)\n\u001b[0;32m     60\u001b[0m     \u001b[38;5;28msuper\u001b[39m()\u001b[38;5;241m.\u001b[39m\u001b[38;5;21m__init__\u001b[39m(\n\u001b[0;32m     61\u001b[0m         path,\n\u001b[0;32m     62\u001b[0m         mode\u001b[38;5;241m=\u001b[39mmode,\n\u001b[1;32m   (...)\u001b[0m\n\u001b[0;32m     65\u001b[0m         engine_kwargs\u001b[38;5;241m=\u001b[39mengine_kwargs,\n\u001b[0;32m     66\u001b[0m     )\n",
      "\u001b[1;31mModuleNotFoundError\u001b[0m: No module named 'openpyxl'"
     ]
    }
   ],
   "source": [
    "import pandas as pd\n",
    "df = pd.DataFrame(store)\n",
    "df.to_excel('banapresso.xlsx')"
   ]
  },
  {
   "cell_type": "code",
   "execution_count": null,
   "id": "5aff6349",
   "metadata": {},
   "outputs": [],
   "source": []
  }
 ],
 "metadata": {
  "kernelspec": {
   "display_name": "Python 3 (ipykernel)",
   "language": "python",
   "name": "python3"
  },
  "language_info": {
   "codemirror_mode": {
    "name": "ipython",
    "version": 3
   },
   "file_extension": ".py",
   "mimetype": "text/x-python",
   "name": "python",
   "nbconvert_exporter": "python",
   "pygments_lexer": "ipython3",
   "version": "3.8.6"
  }
 },
 "nbformat": 4,
 "nbformat_minor": 5
}
